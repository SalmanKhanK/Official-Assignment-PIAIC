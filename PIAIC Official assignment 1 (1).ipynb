{
 "cells": [
  {
   "cell_type": "markdown",
   "metadata": {
    "collapsed": false
   },
   "source": [
    "## 1. Calculate Area of a Circle"
   ]
  },
  {
   "cell_type": "markdown",
   "metadata": {
    "collapsed": false
   },
   "source": [
    "#### Write a Python program which accepts the radius of a circle from the user and compute the area.\n",
    "###### Program Console Sample Output 1:\n",
    "###### Input Radius: 0.5\n",
    "###### Area of Circle with radius 0.5 is 0.7853981634"
   ]
  },
  {
   "cell_type": "code",
   "execution_count": 19,
   "metadata": {
    "cocalc": {
     "outputs": {
      "0": {
       "name": "input",
       "opts": {
        "password": false,
        "prompt": "Enter radius of the circle"
       },
       "output_type": "stream",
       "value": "0.5"
      }
     }
    },
    "collapsed": false
   },
   "outputs": [
    {
     "name": "stdout",
     "output_type": "stream",
     "text": "Enter radius of the circle 0.5"
    },
    {
     "name": "stdout",
     "output_type": "stream",
     "text": [
      "the area of the circle is 0.7853975\n"
     ]
    }
   ],
   "source": [
    "radius=float(input(\"Enter radius of the circle\"))\n",
    "Area=str((3.14159)*(radius*radius))\n",
    "print(\"the area of the circle is\",Area)"
   ]
  },
  {
   "cell_type": "code",
   "execution_count": 0,
   "metadata": {
    "collapsed": false
   },
   "outputs": [
   ],
   "source": [
   ]
  },
  {
   "cell_type": "code",
   "execution_count": 0,
   "metadata": {
    "collapsed": false
   },
   "outputs": [
   ],
   "source": [
   ]
  },
  {
   "cell_type": "markdown",
   "metadata": {
    "collapsed": false
   },
   "source": [
    "## 2. Check Number either positive, negative or zero"
   ]
  },
  {
   "cell_type": "markdown",
   "metadata": {
    "collapsed": false
   },
   "source": [
    "#### Write a Python program to check if a number is positive, negative or zero\n",
    "###### Program Console Sample Output 1:\n",
    "###### Enter Number: -1\n",
    "##### Negative Number Entered\n",
    "###### Program Console Sample Output 2:\n",
    "##### Integer: 3\n",
    "##### Positive Number Entered\n",
    "###### Program Console Sample Output 3:\n",
    "##### Integer: 0\n",
    "###### Zero Entered"
   ]
  },
  {
   "cell_type": "code",
   "execution_count": 23,
   "metadata": {
    "cocalc": {
     "outputs": {
      "0": {
       "name": "input",
       "opts": {
        "password": false,
        "prompt": "Enter number to check either positive negative or zero"
       },
       "output_type": "stream",
       "value": "3"
      }
     }
    },
    "collapsed": false
   },
   "outputs": [
    {
     "name": "stdout",
     "output_type": "stream",
     "text": "Enter number to check either positive negative or zero 3"
    },
    {
     "name": "stdout",
     "output_type": "stream",
     "text": [
      "positive Number Entered\n"
     ]
    }
   ],
   "source": [
    "num=int(input(\"Enter number to check either positive negative or zero\"))\n",
    "if(num<0):\n",
    "    print(\"Negative Number Entered\")\n",
    "elif(num>0):\n",
    "    print(\"positive Number Entered\")\n",
    "\n",
    "elif(num==\"0\"):\n",
    "    print(\"Zero Entered\")"
   ]
  },
  {
   "cell_type": "code",
   "execution_count": 0,
   "metadata": {
    "collapsed": false
   },
   "outputs": [
   ],
   "source": [
   ]
  },
  {
   "cell_type": "code",
   "execution_count": 0,
   "metadata": {
    "collapsed": false
   },
   "outputs": [
   ],
   "source": [
   ]
  },
  {
   "cell_type": "code",
   "execution_count": 0,
   "metadata": {
    "collapsed": false
   },
   "outputs": [
   ],
   "source": [
   ]
  },
  {
   "cell_type": "markdown",
   "metadata": {
    "collapsed": false
   },
   "source": [
    "## 3. Divisibility Check of two numbers"
   ]
  },
  {
   "cell_type": "markdown",
   "metadata": {
    "collapsed": false
   },
   "source": [
    "#### Write a Python program to check whether a number is completely divisible by another number. Accept two integer values form the user\n",
    "##### Program Console Sample Output 1:\n",
    "###### Enter numerator: 4\n",
    "###### Enter Denominator: 2\n",
    "##### Number 4 is Completely divisible by 2\n",
    "###### Program Console Sample Output 2:\n",
    "##### Enter numerator: 7\n",
    "\n",
    "##### Enter Denominator: 4\n",
    "###### Number 7 is not Completely divisible by 4"
   ]
  },
  {
   "cell_type": "code",
   "execution_count": 36,
   "metadata": {
    "cocalc": {
     "outputs": {
      "0": {
       "name": "input",
       "opts": {
        "password": false,
        "prompt": "Enter Numerator"
       },
       "output_type": "stream",
       "value": "4"
      },
      "1": {
       "name": "input",
       "opts": {
        "password": false,
        "prompt": "Enter Denominator"
       },
       "output_type": "stream",
       "value": "2"
      }
     }
    },
    "collapsed": false
   },
   "outputs": [
    {
     "name": "stdout",
     "output_type": "stream",
     "text": "Enter Numerator 4"
    },
    {
     "name": "stdout",
     "output_type": "stream",
     "text": "Enter Denominator 2"
    },
    {
     "name": "stdout",
     "output_type": "stream",
     "text": [
      "number 4 is completely divisible by 2\n"
     ]
    }
   ],
   "source": [
    "numerator=int(input(\"Enter Numerator\"))\n",
    "denominator=int(input(\"Enter Denominator\"))\n",
    "if(numerator%denominator==0):\n",
    "    print(\"number\",numerator,\"is completely divisible by\",denominator)\n",
    "else:\n",
    "    print(\"Number\",numerator,\"is not Completely divisible by\",denominator)"
   ]
  },
  {
   "cell_type": "code",
   "execution_count": 0,
   "metadata": {
    "collapsed": false
   },
   "outputs": [
   ],
   "source": [
   ]
  },
  {
   "cell_type": "code",
   "execution_count": 0,
   "metadata": {
    "collapsed": false
   },
   "outputs": [
   ],
   "source": [
   ]
  },
  {
   "cell_type": "code",
   "execution_count": 0,
   "metadata": {
    "collapsed": false
   },
   "outputs": [
   ],
   "source": [
   ]
  },
  {
   "cell_type": "code",
   "execution_count": 0,
   "metadata": {
    "collapsed": false
   },
   "outputs": [
   ],
   "source": [
   ]
  },
  {
   "cell_type": "code",
   "execution_count": 0,
   "metadata": {
    "collapsed": false
   },
   "outputs": [
   ],
   "source": [
   ]
  },
  {
   "cell_type": "markdown",
   "metadata": {
    "collapsed": false
   },
   "source": [
    "## 4. Calculate Volume of a sphere"
   ]
  },
  {
   "cell_type": "markdown",
   "metadata": {
    "collapsed": false
   },
   "source": [
    "##### Write a Python program to get the volume of a sphere, please take the radius as input from user"
   ]
  },
  {
   "cell_type": "markdown",
   "metadata": {
    "collapsed": false
   },
   "source": [
    "##### Program Console Output:\n",
    "##### Enter Radius of Sphere: 1\n",
    "###### Volume of the Sphere with Radius 1 is 4.18"
   ]
  },
  {
   "cell_type": "code",
   "execution_count": 0,
   "metadata": {
    "collapsed": false
   },
   "outputs": [
   ],
   "source": [
   ]
  },
  {
   "cell_type": "code",
   "execution_count": 40,
   "metadata": {
    "cocalc": {
     "outputs": {
      "0": {
       "name": "input",
       "opts": {
        "password": false,
        "prompt": "Enter radius of sphere"
       },
       "output_type": "stream",
       "value": "1"
      }
     }
    },
    "collapsed": false
   },
   "outputs": [
    {
     "name": "stdout",
     "output_type": "stream",
     "text": "Enter radius of sphere 1"
    },
    {
     "name": "stdout",
     "output_type": "stream",
     "text": [
      "Volume of the sphere with Radius 1.0 is 4.189333333333333\n"
     ]
    }
   ],
   "source": [
    "radius=float(input(\"Enter radius of sphere\"))\n",
    "vol=(4/3)*3.142*(radius**3)\n",
    "print(\"Volume of the sphere with Radius\",radius,\"is\",vol)"
   ]
  },
  {
   "cell_type": "code",
   "execution_count": 0,
   "metadata": {
    "collapsed": false
   },
   "outputs": [
   ],
   "source": [
   ]
  },
  {
   "cell_type": "code",
   "execution_count": 0,
   "metadata": {
    "collapsed": false
   },
   "outputs": [
   ],
   "source": [
   ]
  },
  {
   "cell_type": "code",
   "execution_count": 0,
   "metadata": {
    "collapsed": false
   },
   "outputs": [
   ],
   "source": [
   ]
  },
  {
   "cell_type": "markdown",
   "metadata": {
    "collapsed": false
   },
   "source": [
    "## 5. Copy string n times\n",
    "#### Write a Python program to get a string which is n (non-negative integer) copies of a given string.\n",
    "##### Program Console Output:\n",
    "##### Enter String: Hi\n",
    "###### How many copies of String you need: 4\n",
    "###### 4 Copies of Hi are HiHiHiHi"
   ]
  },
  {
   "cell_type": "code",
   "execution_count": 72,
   "metadata": {
    "cocalc": {
     "outputs": {
      "0": {
       "name": "input",
       "opts": {
        "password": false,
        "prompt": "Enter String:"
       },
       "output_type": "stream",
       "value": "Hi"
      },
      "1": {
       "name": "input",
       "opts": {
        "password": false,
        "prompt": "How many copies of string you need"
       },
       "output_type": "stream",
       "value": "4"
      }
     }
    },
    "collapsed": false
   },
   "outputs": [
    {
     "name": "stdout",
     "output_type": "stream",
     "text": "Enter String: Hi"
    },
    {
     "name": "stdout",
     "output_type": "stream",
     "text": "How many copies of string you need 4"
    },
    {
     "name": "stdout",
     "output_type": "stream",
     "text": [
      "4 Copies of Hi are\n",
      "HiHiHiHi"
     ]
    }
   ],
   "source": [
    "n=input(\"Enter String:\")\n",
    "num=int(input(\"How many copies of string you need\"))\n",
    "if(num<0):\n",
    "    print(\"Enter non negative integer\")\n",
    "else:\n",
    "    print(num,\"Copies of\",n,\"are\")\n",
    "    for ni in range(num):\n",
    "        st=n\n",
    "        print(st,end=\"\")\n",
    "    "
   ]
  },
  {
   "cell_type": "code",
   "execution_count": 0,
   "metadata": {
    "collapsed": false
   },
   "outputs": [
   ],
   "source": [
   ]
  },
  {
   "cell_type": "code",
   "execution_count": 0,
   "metadata": {
    "collapsed": false
   },
   "outputs": [
   ],
   "source": [
   ]
  },
  {
   "cell_type": "code",
   "execution_count": 0,
   "metadata": {
    "collapsed": false
   },
   "outputs": [
   ],
   "source": [
   ]
  },
  {
   "cell_type": "code",
   "execution_count": 0,
   "metadata": {
    "collapsed": false
   },
   "outputs": [
   ],
   "source": [
   ]
  },
  {
   "cell_type": "markdown",
   "metadata": {
    "collapsed": false
   },
   "source": [
    "## 6. Check if number is Even or Odd\n",
    "### Write a Python program to find whether a given number (accept from the user) is even or odd, print out an appropriate message to the user\n",
    "#### Program Console Output 1:\n",
    "##### Enter Number: 4\n",
    "###### 4 is Even\n",
    "#### Program Console Output 2:\n",
    "##### Enter Number: 9\n",
    "###### 9 is Odd"
   ]
  },
  {
   "cell_type": "code",
   "execution_count": 74,
   "metadata": {
    "cocalc": {
     "outputs": {
      "0": {
       "name": "input",
       "opts": {
        "password": false,
        "prompt": "Enter number"
       },
       "output_type": "stream",
       "value": "4"
      }
     }
    },
    "collapsed": false
   },
   "outputs": [
    {
     "name": "stdout",
     "output_type": "stream",
     "text": "Enter number 4"
    },
    {
     "name": "stdout",
     "output_type": "stream",
     "text": [
      "4 is Even\n"
     ]
    }
   ],
   "source": [
    "num=int(input(\"Enter number\"))\n",
    "if(num%2==0):\n",
    "    print(num,\"is Even\")\n",
    "else:\n",
    "    print(num,\"is Odd\")"
   ]
  },
  {
   "cell_type": "code",
   "execution_count": 0,
   "metadata": {
    "collapsed": false
   },
   "outputs": [
   ],
   "source": [
   ]
  },
  {
   "cell_type": "code",
   "execution_count": 0,
   "metadata": {
    "collapsed": false
   },
   "outputs": [
   ],
   "source": [
   ]
  },
  {
   "cell_type": "code",
   "execution_count": 0,
   "metadata": {
    "collapsed": false
   },
   "outputs": [
   ],
   "source": [
   ]
  },
  {
   "cell_type": "code",
   "execution_count": 0,
   "metadata": {
    "collapsed": false
   },
   "outputs": [
   ],
   "source": [
   ]
  },
  {
   "cell_type": "markdown",
   "metadata": {
    "collapsed": false
   },
   "source": [
    "## 7. Vowel Tester\n",
    "### Write a Python program to test whether a passed letter is a vowel or not\n",
    "#### Program Console Output 1:\n",
    "##### Enter a character: A\n",
    "###### Letter A is Vowel\n",
    "#### Program Console Output 2:\n",
    "##### Enter a character: e\n",
    "###### Letter e is Vowel\n",
    "#### Program Console Output 2:\n",
    "##### Enter a character: N\n",
    "###### Letter N is not Vowel"
   ]
  },
  {
   "cell_type": "code",
   "execution_count": 4,
   "metadata": {
    "cocalc": {
     "outputs": {
      "0": {
       "name": "input",
       "opts": {
        "password": false,
        "prompt": "Enter a character"
       },
       "output_type": "stream",
       "value": "A"
      }
     }
    },
    "collapsed": false
   },
   "outputs": [
    {
     "name": "stdout",
     "output_type": "stream",
     "text": "Enter a character A"
    },
    {
     "name": "stdout",
     "output_type": "stream",
     "text": [
      "Letter A is Vowel\n"
     ]
    }
   ],
   "source": [
    "let=input(\"Enter a character\")\n",
    "if(let==\"a\" or let==\"e\" or let==\"i\" or let==\"o\" or let==\"u\" or let==\"A\" or let==\"E\" or let==\"I\" or let==\"O\" or let==\"U\"):\n",
    "    print(\"Letter\",let,\"is Vowel\")\n",
    "else:\n",
    "    print(\"Letter\",let,\"is not Vowel\")"
   ]
  },
  {
   "cell_type": "code",
   "execution_count": 0,
   "metadata": {
    "collapsed": false
   },
   "outputs": [
   ],
   "source": [
   ]
  },
  {
   "cell_type": "code",
   "execution_count": 0,
   "metadata": {
    "collapsed": false
   },
   "outputs": [
   ],
   "source": [
   ]
  },
  {
   "cell_type": "code",
   "execution_count": 0,
   "metadata": {
    "collapsed": false
   },
   "outputs": [
   ],
   "source": [
   ]
  },
  {
   "cell_type": "markdown",
   "metadata": {
    "collapsed": false
   },
   "source": [
    "## 8. Triangle area\n",
    "### Write a Python program that will accept the base and height of a triangle and compute the area\n",
    "###### Reference:\n",
    "https://www.mathgoodies.com/lessons/vol1/area_triangle"
   ]
  },
  {
   "cell_type": "code",
   "execution_count": 8,
   "metadata": {
    "cocalc": {
     "outputs": {
      "0": {
       "name": "input",
       "opts": {
        "password": false,
        "prompt": "Enter height of a triangle"
       },
       "output_type": "stream",
       "value": "20"
      },
      "1": {
       "name": "input",
       "opts": {
        "password": false,
        "prompt": "Enter base of a triangle"
       },
       "output_type": "stream",
       "value": "15.5"
      }
     }
    },
    "collapsed": false
   },
   "outputs": [
    {
     "name": "stdout",
     "output_type": "stream",
     "text": "Enter height of a triangle 20"
    },
    {
     "name": "stdout",
     "output_type": "stream",
     "text": "Enter base of a triangle 15.5"
    },
    {
     "name": "stdout",
     "output_type": "stream",
     "text": [
      "The Area of a triangle is 155.0\n"
     ]
    }
   ],
   "source": [
    "h=float(input(\"Enter height of a triangle\"))\n",
    "b=float(input(\"Enter base of a triangle\"))\n",
    "Area=(h*b)/2\n",
    "print(\"The Area of a triangle is\",Area)"
   ]
  },
  {
   "cell_type": "code",
   "execution_count": 0,
   "metadata": {
    "collapsed": false
   },
   "outputs": [
   ],
   "source": [
   ]
  },
  {
   "cell_type": "code",
   "execution_count": 0,
   "metadata": {
    "collapsed": false
   },
   "outputs": [
   ],
   "source": [
   ]
  },
  {
   "cell_type": "code",
   "execution_count": 0,
   "metadata": {
    "collapsed": false
   },
   "outputs": [
   ],
   "source": [
   ]
  },
  {
   "cell_type": "markdown",
   "metadata": {
    "collapsed": false
   },
   "source": [
    "## 9. Calculate Interest\n",
    "### Write a Python program to compute the future value of a specified principal amount, rate of interest, and a number of years\n",
    "#### Program Console Sample 1:\n",
    "##### Please enter principal amount: 10000\n",
    "###### Please Enter Rate of interest in %: 0.1\n",
    "###### Enter number of years for investment: 5\n",
    "###### After 5 years your principal amount 10000 over an interest rate of 0.1 % will be 16105.1"
   ]
  },
  {
   "cell_type": "code",
   "execution_count": 4,
   "metadata": {
    "cocalc": {
     "outputs": {
      "0": {
       "name": "input",
       "opts": {
        "password": false,
        "prompt": "Please Enter Principle amount:"
       },
       "output_type": "stream",
       "value": "10000"
      },
      "1": {
       "name": "input",
       "opts": {
        "password": false,
        "prompt": "Please Enter Rate of interest in %:"
       },
       "output_type": "stream",
       "value": "0.1"
      },
      "2": {
       "name": "input",
       "opts": {
        "password": false,
        "prompt": "Enter number of Years for investment:"
       },
       "output_type": "stream",
       "value": "5"
      }
     }
    },
    "collapsed": false
   },
   "outputs": [
    {
     "name": "stdout",
     "output_type": "stream",
     "text": "Please Enter Principle amount: 10000"
    },
    {
     "name": "stdout",
     "output_type": "stream",
     "text": "Please Enter Rate of interest in %: 0.1"
    },
    {
     "name": "stdout",
     "output_type": "stream",
     "text": "Enter number of Years for investment: 5"
    },
    {
     "name": "stdout",
     "output_type": "stream",
     "text": [
      "After  5 year your principal amount 10000.0 over an interest rate  of 0.1  % will be=  16105.100000000006\n"
     ]
    }
   ],
   "source": [
    "import math\n",
    "amount=float(input(\"Please Enter Principle amount:\"))\n",
    "ir=float(input(\"Please Enter Rate of interest in %:\"))\n",
    "year=int(input(\"Enter number of Years for investment:\"))\n",
    "value=amount*(math.pow((1+ir),year))\n",
    "print(\"After \",year, \"year your principal amount\",amount, \"over an interest rate  of\",ir,\" % will be= \",value)"
   ]
  },
  {
   "cell_type": "code",
   "execution_count": 0,
   "metadata": {
    "collapsed": false
   },
   "outputs": [
   ],
   "source": [
   ]
  },
  {
   "cell_type": "code",
   "execution_count": 0,
   "metadata": {
    "collapsed": false
   },
   "outputs": [
   ],
   "source": [
   ]
  },
  {
   "cell_type": "code",
   "execution_count": 0,
   "metadata": {
    "collapsed": false
   },
   "outputs": [
   ],
   "source": [
   ]
  },
  {
   "cell_type": "code",
   "execution_count": 0,
   "metadata": {
    "collapsed": false
   },
   "outputs": [
   ],
   "source": [
   ]
  },
  {
   "cell_type": "code",
   "execution_count": 0,
   "metadata": {
    "collapsed": false
   },
   "outputs": [
   ],
   "source": [
   ]
  },
  {
   "cell_type": "markdown",
   "metadata": {
    "collapsed": false
   },
   "source": [
    "## 10. Euclidean distance\n",
    "### write a Python program to compute the distance between the points (x1, y1) and (x2, y2).\n",
    "#### Program Console Sample 1:\n",
    "###### Enter Co-ordinate for x1: 2\n",
    "###### Enter Co-ordinate for x2: 4\n",
    "###### Enter Co-ordinate for y1: 4\n",
    "###### Enter Co-ordinate for y2: 4\n",
    "###### Distance between points (2, 4) and (4, 4) is 2"
   ]
  },
  {
   "cell_type": "markdown",
   "metadata": {
    "collapsed": false
   },
   "source": [
    "###### Reference:\n",
    "https://en.wikipedia.org/wiki/Euclidean_distance"
   ]
  },
  {
   "cell_type": "code",
   "execution_count": 12,
   "metadata": {
    "cocalc": {
     "outputs": {
      "0": {
       "name": "input",
       "opts": {
        "password": false,
        "prompt": "Enter Co ordinate for X1"
       },
       "output_type": "stream",
       "value": "2"
      },
      "1": {
       "name": "input",
       "opts": {
        "password": false,
        "prompt": "Enter Co ordinate for X2"
       },
       "output_type": "stream",
       "value": "4"
      },
      "2": {
       "name": "input",
       "opts": {
        "password": false,
        "prompt": "Enter Co ordinate for Y1"
       },
       "output_type": "stream",
       "value": "4"
      },
      "3": {
       "name": "input",
       "opts": {
        "password": false,
        "prompt": "Enter Co ordinate for Y1"
       },
       "output_type": "stream",
       "value": "4"
      }
     }
    },
    "collapsed": false
   },
   "outputs": [
    {
     "name": "stdout",
     "output_type": "stream",
     "text": "Enter Co ordinate for X1 2"
    },
    {
     "name": "stdout",
     "output_type": "stream",
     "text": "Enter Co ordinate for X2 4"
    },
    {
     "name": "stdout",
     "output_type": "stream",
     "text": "Enter Co ordinate for Y1 4"
    },
    {
     "name": "stdout",
     "output_type": "stream",
     "text": "Enter Co ordinate for Y1 4"
    },
    {
     "name": "stdout",
     "output_type": "stream",
     "text": [
      "Distance between points  (2, 4) and (4, 4) is 2.0\n"
     ]
    }
   ],
   "source": [
    "import math\n",
    "x1=int(input(\"Enter Co ordinate for X1\"))\n",
    "x2=int(input(\"Enter Co ordinate for X2\"))\n",
    "y1=int(input(\"Enter Co ordinate for Y1\"))\n",
    "y2=int(input(\"Enter Co ordinate for Y1\"))\n",
    "Dis=math.sqrt(math.pow((x2-x1),2)+math.pow((y2-y1),2))\n",
    "print(\"Distance between points \",(x1,x2),\"and\" ,(y1,y2), \"is\",Dis)"
   ]
  },
  {
   "cell_type": "code",
   "execution_count": 0,
   "metadata": {
    "collapsed": false
   },
   "outputs": [
   ],
   "source": [
   ]
  },
  {
   "cell_type": "code",
   "execution_count": 0,
   "metadata": {
    "collapsed": false
   },
   "outputs": [
   ],
   "source": [
   ]
  },
  {
   "cell_type": "code",
   "execution_count": 0,
   "metadata": {
    "collapsed": false
   },
   "outputs": [
   ],
   "source": [
   ]
  },
  {
   "cell_type": "markdown",
   "metadata": {
    "collapsed": false
   },
   "source": [
    "## 11. Feet to Centimeter Converter\n",
    "### Write a Python program to convert height in feet to centimetres.\n",
    "##### Program Console Sample 1:\n",
    "###### Enter Height in Feet: 5\n",
    "###### There are 152.4 Cm in 5 ft\n",
    "###### Reference:\n",
    "https://www.rapidtables.com/convert/length/feet-to-cm.html"
   ]
  },
  {
   "cell_type": "code",
   "execution_count": 13,
   "metadata": {
    "cocalc": {
     "outputs": {
      "0": {
       "name": "input",
       "opts": {
        "password": false,
        "prompt": "Enter Height in feet"
       },
       "output_type": "stream",
       "value": "5"
      }
     }
    },
    "collapsed": false
   },
   "outputs": [
    {
     "name": "stdout",
     "output_type": "stream",
     "text": "Enter Height in feet 5"
    },
    {
     "name": "stdout",
     "output_type": "stream",
     "text": [
      "There are  152.4 Cm in 5.0 ft\n"
     ]
    }
   ],
   "source": [
    "H=float(input(\"Enter Height in feet\"))\n",
    "cen=H*30.48\n",
    "print(\"There are \",cen,\"Cm in\",H,\"ft\")"
   ]
  },
  {
   "cell_type": "code",
   "execution_count": 0,
   "metadata": {
    "collapsed": false
   },
   "outputs": [
   ],
   "source": [
   ]
  },
  {
   "cell_type": "code",
   "execution_count": 0,
   "metadata": {
    "collapsed": false
   },
   "outputs": [
   ],
   "source": [
   ]
  },
  {
   "cell_type": "code",
   "execution_count": 0,
   "metadata": {
    "collapsed": false
   },
   "outputs": [
   ],
   "source": [
   ]
  },
  {
   "cell_type": "markdown",
   "metadata": {
    "collapsed": false
   },
   "source": [
    "## 12. BMI Calculator\n",
    "### Write a Python program to calculate body mass index\n",
    "##### Program Console Sample 1:\n",
    "###### Enter Height in Cm: 180\n",
    "###### Enter Weight in Kg: 75\n",
    "###### Your BMI is 23.15"
   ]
  },
  {
   "cell_type": "code",
   "execution_count": 16,
   "metadata": {
    "cocalc": {
     "outputs": {
      "0": {
       "name": "input",
       "opts": {
        "password": false,
        "prompt": "Enter hieght in cm"
       },
       "output_type": "stream",
       "value": "180"
      },
      "1": {
       "name": "input",
       "opts": {
        "password": false,
        "prompt": "Enter Weight in kg"
       },
       "output_type": "stream",
       "value": "75"
      }
     }
    },
    "collapsed": false
   },
   "outputs": [
    {
     "name": "stdout",
     "output_type": "stream",
     "text": "Enter hieght in cm 180"
    },
    {
     "name": "stdout",
     "output_type": "stream",
     "text": "Enter Weight in kg 75"
    },
    {
     "name": "stdout",
     "output_type": "stream",
     "text": [
      "Your BMI is 23.148148148148145\n"
     ]
    }
   ],
   "source": [
    "import math\n",
    "H=float(input(\"Enter hieght in cm\"))\n",
    "W=float(input(\"Enter Weight in kg\"))\n",
    "meter=H/100\n",
    "BMI=W/(math.pow(meter,2))\n",
    "print(\"Your BMI is\",BMI)"
   ]
  },
  {
   "cell_type": "code",
   "execution_count": 0,
   "metadata": {
    "collapsed": false
   },
   "outputs": [
   ],
   "source": [
   ]
  },
  {
   "cell_type": "code",
   "execution_count": 0,
   "metadata": {
    "collapsed": false
   },
   "outputs": [
   ],
   "source": [
   ]
  },
  {
   "cell_type": "markdown",
   "metadata": {
    "collapsed": false
   },
   "source": [
    "## 13. Sum of n Positive Integers\n",
    "### Write a python program to sum of the first n positive integers\n",
    "#### Program Console Sample 1:\n",
    "###### Enter value of n: 5\n",
    "###### Sum of n Positive integers till 5 is 15"
   ]
  },
  {
   "cell_type": "code",
   "execution_count": 32,
   "metadata": {
    "cocalc": {
     "outputs": {
      "0": {
       "name": "input",
       "opts": {
        "password": false,
        "prompt": "Enter value of n:"
       },
       "output_type": "stream",
       "value": "5"
      }
     }
    },
    "collapsed": false
   },
   "outputs": [
    {
     "name": "stdout",
     "output_type": "stream",
     "text": "Enter value of n: 5"
    },
    {
     "name": "stdout",
     "output_type": "stream",
     "text": [
      "Sum of n positive integers till 5 is 15\n"
     ]
    }
   ],
   "source": [
    "n=int(input(\"Enter value of n:\"))\n",
    "f=0\n",
    "for i in range(0,n+1,1):\n",
    "    f=f+i\n",
    "print(\"Sum of n positive integers till\",n,\"is\",f)"
   ]
  },
  {
   "cell_type": "code",
   "execution_count": 0,
   "metadata": {
    "collapsed": false
   },
   "outputs": [
   ],
   "source": [
   ]
  },
  {
   "cell_type": "code",
   "execution_count": 0,
   "metadata": {
    "collapsed": false
   },
   "outputs": [
   ],
   "source": [
   ]
  },
  {
   "cell_type": "markdown",
   "metadata": {
    "collapsed": false
   },
   "source": [
    "## 14. Digits Sum of a Number\n",
    "### Write a Python program to calculate the sum of the digits in an integer\n",
    "#### Program Console Sample 1:\n",
    "##### Enter a number: 15\n",
    "###### Sum of 1 + 5 is 6\n",
    "#### Program Console Sample 2:\n",
    "##### Enter a number: 1234\n",
    "###### Sum of 1 + 2 + 3 + 4 is 10"
   ]
  },
  {
   "cell_type": "code",
   "execution_count": 12,
   "metadata": {
    "cocalc": {
     "outputs": {
      "0": {
       "name": "input",
       "opts": {
        "password": false,
        "prompt": "Enter a number"
       },
       "output_type": "stream",
       "value": "1234"
      }
     }
    },
    "collapsed": false
   },
   "outputs": [
    {
     "name": "stdout",
     "output_type": "stream",
     "text": "Enter a number 1234"
    },
    {
     "name": "stdout",
     "output_type": "stream",
     "text": [
      "sum of digits= 10 "
     ]
    }
   ],
   "source": [
    "num=int(input(\"Enter a number\"))\n",
    "s=0\n",
    "while(num>0):\n",
    "    d=num%10\n",
    "    s=s+d\n",
    "    num=num//10\n",
    "print(\"sum of digits=\",s,end=\" \")"
   ]
  },
  {
   "cell_type": "code",
   "execution_count": 0,
   "metadata": {
    "collapsed": false
   },
   "outputs": [
   ],
   "source": [
   ]
  },
  {
   "cell_type": "code",
   "execution_count": 0,
   "metadata": {
    "collapsed": false
   },
   "outputs": [
   ],
   "source": [
   ]
  },
  {
   "cell_type": "code",
   "execution_count": 0,
   "metadata": {
    "collapsed": false
   },
   "outputs": [
   ],
   "source": [
   ]
  },
  {
   "cell_type": "code",
   "execution_count": 0,
   "metadata": {
    "collapsed": false
   },
   "outputs": [
   ],
   "source": [
   ]
  },
  {
   "cell_type": "code",
   "execution_count": 0,
   "metadata": {
    "collapsed": false
   },
   "outputs": [
   ],
   "source": [
   ]
  },
  {
   "cell_type": "code",
   "execution_count": 0,
   "metadata": {
    "collapsed": false
   },
   "outputs": [
   ],
   "source": [
   ]
  },
  {
   "cell_type": "code",
   "execution_count": 0,
   "metadata": {
    "collapsed": false
   },
   "outputs": [
   ],
   "source": [
   ]
  }
 ],
 "metadata": {
  "kernelspec": {
   "display_name": "Python 3 (Ubuntu Linux)",
   "language": "python",
   "metadata": {
    "cocalc": {
     "description": "Python 3 programming language",
     "priority": 100,
     "url": "https://www.python.org/"
    }
   },
   "name": "python3"
  },
  "language_info": {
   "codemirror_mode": {
    "name": "ipython",
    "version": 3
   },
   "file_extension": ".py",
   "mimetype": "text/x-python",
   "name": "python",
   "nbconvert_exporter": "python",
   "pygments_lexer": "ipython3",
   "version": "3.6.7"
  }
 },
 "nbformat": 4,
 "nbformat_minor": 0
}